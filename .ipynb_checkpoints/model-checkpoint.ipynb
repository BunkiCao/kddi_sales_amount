{
 "cells": [
  {
   "cell_type": "code",
   "execution_count": 1,
   "metadata": {},
   "outputs": [],
   "source": [
    "import warnings\n",
    "warnings.filterwarnings('ignore')"
   ]
  },
  {
   "cell_type": "code",
   "execution_count": 2,
   "metadata": {},
   "outputs": [
    {
     "name": "stderr",
     "output_type": "stream",
     "text": [
      "Using TensorFlow backend.\n"
     ]
    }
   ],
   "source": [
    "import numpy as np\n",
    "import pandas as pd\n",
    "from pandas import DataFrame\n",
    "from keras.models import Sequential, Model\n",
    "from keras.layers import Dense, Dropout\n",
    "from keras import optimizers\n",
    "import matplotlib.pyplot as plt\n",
    "from sklearn.decomposition import PCA "
   ]
  },
  {
   "cell_type": "code",
   "execution_count": 3,
   "metadata": {},
   "outputs": [],
   "source": [
    "#datasetx = genfromtxt('feature.csv', delimiter='\\t', skip_header=1)\n",
    "#datasety = genfromtxt('output_y.csv', delimiter='\\t', skip_header=1)"
   ]
  },
  {
   "cell_type": "markdown",
   "metadata": {},
   "source": [
    "## Load the data\n",
    "\n",
    "dataset is [datax, datay] before PCA  \n",
    "dataset_PCA is that after PCA"
   ]
  },
  {
   "cell_type": "code",
   "execution_count": 4,
   "metadata": {
    "scrolled": true
   },
   "outputs": [],
   "source": [
    "datax = pd.read_csv('../feature.csv', sep='\\t')\n",
    "datay = pd.read_csv('output_y.csv', sep='\\t')"
   ]
  },
  {
   "cell_type": "code",
   "execution_count": 5,
   "metadata": {
    "scrolled": true
   },
   "outputs": [],
   "source": [
    "# merge x and y, and drop NA\n",
    "pd_data=pd.concat([datax,datay],axis=1)\n",
    "pd_data = pd_data.dropna(axis=0, how='any') \n",
    "#Remove bad data\n",
    "pd_data = pd_data[~pd_data['discount_rate'].isin(['販売価格'])]\n",
    "pd_data = pd_data[~pd_data['discount_rate'].isin(['ダミー'])]\n",
    "#pick proper data, y<100\n",
    "dataset = np.array(pd_data)\n",
    "dataset = dataset[dataset[:,207]<100,:]\n",
    "dataset_non_zero = dataset[dataset[:,207]!=0,:]"
   ]
  },
  {
   "cell_type": "code",
   "execution_count": 6,
   "metadata": {},
   "outputs": [
    {
     "data": {
      "text/plain": [
       "(155335, 208)"
      ]
     },
     "execution_count": 6,
     "metadata": {},
     "output_type": "execute_result"
    }
   ],
   "source": [
    "dataset.shape"
   ]
  },
  {
   "cell_type": "code",
   "execution_count": 7,
   "metadata": {},
   "outputs": [
    {
     "data": {
      "text/plain": [
       "(64188, 208)"
      ]
     },
     "execution_count": 7,
     "metadata": {},
     "output_type": "execute_result"
    }
   ],
   "source": [
    "dataset_non_zero.shape"
   ]
  },
  {
   "cell_type": "markdown",
   "metadata": {},
   "source": [
    "## PCA"
   ]
  },
  {
   "cell_type": "code",
   "execution_count": 8,
   "metadata": {},
   "outputs": [],
   "source": [
    "feature = dataset[:,0:207]"
   ]
  },
  {
   "cell_type": "code",
   "execution_count": 9,
   "metadata": {},
   "outputs": [
    {
     "data": {
      "text/plain": [
       "(155335, 207)"
      ]
     },
     "execution_count": 9,
     "metadata": {},
     "output_type": "execute_result"
    }
   ],
   "source": [
    "feature.shape"
   ]
  },
  {
   "cell_type": "code",
   "execution_count": 10,
   "metadata": {},
   "outputs": [],
   "source": [
    "feature_dim = 207"
   ]
  },
  {
   "cell_type": "code",
   "execution_count": 11,
   "metadata": {},
   "outputs": [],
   "source": [
    "pca=PCA(n_components=feature_dim)\n",
    "feature_pca=pca.fit_transform(feature)"
   ]
  },
  {
   "cell_type": "code",
   "execution_count": 12,
   "metadata": {},
   "outputs": [
    {
     "data": {
      "text/plain": [
       "(155335, 207)"
      ]
     },
     "execution_count": 12,
     "metadata": {},
     "output_type": "execute_result"
    }
   ],
   "source": [
    "feature_pca.shape"
   ]
  },
  {
   "cell_type": "code",
   "execution_count": 13,
   "metadata": {},
   "outputs": [
    {
     "data": {
      "text/plain": [
       "(155335, 208)"
      ]
     },
     "execution_count": 13,
     "metadata": {},
     "output_type": "execute_result"
    }
   ],
   "source": [
    "dataset_pca = np.concatenate((feature_pca,dataset[:,207:208]),axis=1)\n",
    "dataset_pca.shape"
   ]
  },
  {
   "cell_type": "code",
   "execution_count": 14,
   "metadata": {},
   "outputs": [
    {
     "data": {
      "text/plain": [
       "(64188, 208)"
      ]
     },
     "execution_count": 14,
     "metadata": {},
     "output_type": "execute_result"
    }
   ],
   "source": [
    "dataset_pca_non_zero = dataset_pca[dataset_pca[:,feature_dim]!=0,:]\n",
    "dataset_pca_non_zero.shape"
   ]
  },
  {
   "cell_type": "code",
   "execution_count": 15,
   "metadata": {},
   "outputs": [
    {
     "data": {
      "text/plain": [
       "(64188, 208)"
      ]
     },
     "execution_count": 15,
     "metadata": {},
     "output_type": "execute_result"
    }
   ],
   "source": [
    "dataset_pca_non_zero.shape"
   ]
  },
  {
   "cell_type": "markdown",
   "metadata": {},
   "source": [
    "## Model"
   ]
  },
  {
   "cell_type": "code",
   "execution_count": 8,
   "metadata": {
    "scrolled": true
   },
   "outputs": [],
   "source": [
    "feature_dim = 207\n",
    "\n",
    "traindata = dataset[:20000]\n",
    "testdata = dataset[20000:]\n",
    "\n",
    "traindata_non_zero = dataset_non_zero[:12000]\n",
    "testdata_non_zero = dataset_non_zero[12000:]"
   ]
  },
  {
   "cell_type": "code",
   "execution_count": 9,
   "metadata": {
    "scrolled": true
   },
   "outputs": [],
   "source": [
    "x_train, y_train = traindata[:,0:feature_dim], traindata[:,feature_dim:]\n",
    "x_test, y_test = testdata[:,0:feature_dim], testdata[:,feature_dim:]\n",
    "\n",
    "x_train_non_zero, y_train_non_zero = traindata_non_zero[:,0:feature_dim], traindata_non_zero[:,feature_dim:]\n",
    "x_test_non_zero, y_test_non_zero = testdata_non_zero[:,0:feature_dim], testdata_non_zero[:,feature_dim:]"
   ]
  },
  {
   "cell_type": "code",
   "execution_count": 10,
   "metadata": {},
   "outputs": [],
   "source": [
    "model_non_zero = Sequential()\n",
    "\n",
    "model_non_zero.add(Dense(150, input_dim=feature_dim, init='normal', activation='relu')) \n",
    "#model.add(Dropout(0.2))\n",
    "\n",
    "model_non_zero.add(Dense(50, init='normal', activation='relu')) \n",
    "#model.add(Dropout(0.2))\n",
    "\n",
    "model_non_zero.add(Dense(1, init='normal')) \n",
    "\n",
    "#adam = optimizers.Adam(lr=0.001, beta_1=0.9, beta_2=0.999, epsilon=None, decay=0.0, amsgrad=False)\n",
    "model_non_zero.compile(loss='mse', optimizer='rmsprop', metrics=['mae'])"
   ]
  },
  {
   "cell_type": "code",
   "execution_count": 31,
   "metadata": {},
   "outputs": [],
   "source": [
    "model = Sequential()\n",
    "\n",
    "model.add(Dense(150, input_dim=feature_dim, init='normal', activation='relu')) \n",
    "#model.add(Dropout(0.2))\n",
    "\n",
    "model.add(Dense(50, init='normal', activation='relu')) \n",
    "#model.add(Dropout(0.2))\n",
    "\n",
    "model.add(Dense(1, init='normal')) \n",
    "\n",
    "#adam = optimizers.Adam(lr=0.001, beta_1=0.9, beta_2=0.999, epsilon=None, decay=0.0, amsgrad=False)\n",
    "model.compile(loss='mse', optimizer='rmsprop', metrics=['mae'])"
   ]
  },
  {
   "cell_type": "markdown",
   "metadata": {},
   "source": [
    "## Traning and testing"
   ]
  },
  {
   "cell_type": "markdown",
   "metadata": {},
   "source": [
    "### dataset y<100"
   ]
  },
  {
   "cell_type": "code",
   "execution_count": 32,
   "metadata": {
    "scrolled": true
   },
   "outputs": [
    {
     "name": "stdout",
     "output_type": "stream",
     "text": [
      "Training -----------\n",
      "Epoch 1/5\n",
      "20000/20000 [==============================] - 1s 72us/step - loss: 795.9834 - mean_absolute_error: 4.8383\n",
      "Epoch 2/5\n",
      "20000/20000 [==============================] - 1s 64us/step - loss: 2323.3867 - mean_absolute_error: 0.3540\n",
      "Epoch 3/5\n",
      "20000/20000 [==============================] - 1s 64us/step - loss: 17.4770 - mean_absolute_error: 0.0424\n",
      "Epoch 4/5\n",
      "20000/20000 [==============================] - 1s 64us/step - loss: 1267.3885 - mean_absolute_error: 0.2641\n",
      "Epoch 5/5\n",
      "20000/20000 [==============================] - 1s 71us/step - loss: 3.9802 - mean_absolute_error: 0.0258\n"
     ]
    },
    {
     "data": {
      "text/plain": [
       "<keras.callbacks.History at 0x7f5c70103cc0>"
      ]
     },
     "execution_count": 32,
     "metadata": {},
     "output_type": "execute_result"
    }
   ],
   "source": [
    "# training\n",
    "print('Training -----------')\n",
    "model.fit(x_train, y_train, epochs=5, batch_size = 20)"
   ]
  },
  {
   "cell_type": "code",
   "execution_count": 33,
   "metadata": {},
   "outputs": [
    {
     "name": "stdout",
     "output_type": "stream",
     "text": [
      "135335/135335 [==============================] - 3s 20us/step\n",
      "mse= 360.35611858972584 \n",
      "mae= 5.907047882012531\n"
     ]
    }
   ],
   "source": [
    "val_mse, val_mae = model.evaluate(x_test, y_test, batch_size=20)\n",
    "print ('mse=',val_mse, '\\nmae=',val_mae)"
   ]
  },
  {
   "cell_type": "code",
   "execution_count": 34,
   "metadata": {
    "scrolled": true
   },
   "outputs": [],
   "source": [
    "intermediate_layer_model = Model(input=model.input,\n",
    "                                 output=model.layers[2].output)\n",
    "y_output = intermediate_layer_model.predict(x_test)\n",
    "y_output_pd = pd.DataFrame(y_output)\n",
    "y_test_pd = pd.DataFrame(y_test)"
   ]
  },
  {
   "cell_type": "code",
   "execution_count": 65,
   "metadata": {},
   "outputs": [
    {
     "data": {
      "text/plain": [
       "[<matplotlib.lines.Line2D at 0x7f5c130d5b00>]"
      ]
     },
     "execution_count": 65,
     "metadata": {},
     "output_type": "execute_result"
    },
    {
     "data": {
      "image/png": "[encoded data removed]",
      "text/plain": [
       "<Figure size 432x288 with 1 Axes>"
      ]
     },
     "metadata": {},
     "output_type": "display_data"
    }
   ],
   "source": [
    "plt.plot(y_test)"
   ]
  },
  {
   "cell_type": "code",
   "execution_count": 66,
   "metadata": {},
   "outputs": [
    {
     "data": {
      "text/plain": [
       "[<matplotlib.lines.Line2D at 0x7f5c130f0080>]"
      ]
     },
     "execution_count": 66,
     "metadata": {},
     "output_type": "execute_result"
    },
    {
     "data": {
      "image/png": "[encoded data removed]",
      "text/plain": [
       "<Figure size 432x288 with 1 Axes>"
      ]
     },
     "metadata": {},
     "output_type": "display_data"
    }
   ],
   "source": [
    "plt.ylim(0, 100)\n",
    "plt.plot(y_output)"
   ]
  },
  {
   "cell_type": "code",
   "execution_count": 48,
   "metadata": {},
   "outputs": [
    {
     "data": {
      "text/plain": [
       "[<matplotlib.lines.Line2D at 0x7f5c136e6080>]"
      ]
     },
     "execution_count": 48,
     "metadata": {},
     "output_type": "execute_result"
    },
    {
     "data": {
      "image/png": "[encoded data removed]",
      "text/plain": [
       "<Figure size 432x288 with 1 Axes>"
      ]
     },
     "metadata": {},
     "output_type": "display_data"
    }
   ],
   "source": [
    "plt.ylim(0, 100)\n",
    "plt.plot(y_output[40000:40100])"
   ]
  },
  {
   "cell_type": "code",
   "execution_count": 49,
   "metadata": {},
   "outputs": [
    {
     "name": "stdout",
     "output_type": "stream",
     "text": [
      "---------- y_test ----------\n",
      "min= 0\n",
      "max= 99\n",
      "mean= 5.833272989248901\n",
      "median= 0.0\n",
      "std= 13.62077414809642\n",
      "var= 185.52548839345172\n",
      "\n",
      "---------- y_output ----------\n",
      "min= -0.123501636\n",
      "max= 3136.1143\n",
      "mean= 0.07745698\n",
      "median= 0.003009015\n",
      "std= 11.867939\n",
      "var= 140.84798\n"
     ]
    }
   ],
   "source": [
    "print('---------- y_test ----------')\n",
    "print('min=', np.min(y_test))\n",
    "print('max=', np.max(y_test))\n",
    "print('mean=', np.mean(y_test))\n",
    "print('median=', np.median(y_test))\n",
    "print('std=', np.std(y_test))\n",
    "print('var=', np.var(y_test))\n",
    "\n",
    "print('\\n---------- y_output ----------')\n",
    "print('min=', np.min(y_output))\n",
    "print('max=', np.max(y_output))\n",
    "print('mean=', np.mean(y_output))\n",
    "print('median=', np.median(y_output))\n",
    "print('std=', np.std(y_output))\n",
    "print('var=', np.var(y_output))"
   ]
  },
  {
   "cell_type": "code",
   "execution_count": null,
   "metadata": {},
   "outputs": [],
   "source": []
  },
  {
   "cell_type": "markdown",
   "metadata": {},
   "source": [
    "### dataset y<100, y!=0"
   ]
  },
  {
   "cell_type": "code",
   "execution_count": 53,
   "metadata": {},
   "outputs": [
    {
     "name": "stdout",
     "output_type": "stream",
     "text": [
      "Training -----------\n",
      "Epoch 1/4\n",
      "12000/12000 [==============================] - 1s 84us/step - loss: 558.1021 - mean_absolute_error: 14.8959\n",
      "Epoch 2/4\n",
      "12000/12000 [==============================] - 1s 69us/step - loss: 339.6955 - mean_absolute_error: 12.0996\n",
      "Epoch 3/4\n",
      "12000/12000 [==============================] - 1s 67us/step - loss: 315.3299 - mean_absolute_error: 11.7763\n",
      "Epoch 4/4\n",
      "12000/12000 [==============================] - 1s 66us/step - loss: 306.0194 - mean_absolute_error: 11.6114\n"
     ]
    },
    {
     "data": {
      "text/plain": [
       "<keras.callbacks.History at 0x7fa6b6020f98>"
      ]
     },
     "execution_count": 53,
     "metadata": {},
     "output_type": "execute_result"
    }
   ],
   "source": [
    "# training\n",
    "print('Training -----------')\n",
    "model_non_zero.fit(x_train_non_zero, y_train_non_zero, epochs=4, batch_size = 20)"
   ]
  },
  {
   "cell_type": "code",
   "execution_count": 54,
   "metadata": {},
   "outputs": [
    {
     "name": "stdout",
     "output_type": "stream",
     "text": [
      "52188/52188 [==============================] - 1s 24us/step\n",
      "mse= 278.3321235137323 \n",
      "mae= 10.0059329126131\n"
     ]
    }
   ],
   "source": [
    "val_mse, val_mae = model_non_zero.evaluate(x_test_non_zero, y_test_non_zero, batch_size=20)\n",
    "print ('mse=',val_mse, '\\nmae=',val_mae)"
   ]
  },
  {
   "cell_type": "code",
   "execution_count": 36,
   "metadata": {},
   "outputs": [],
   "source": [
    "intermediate_layer_model = Model(input=model_non_zero.input,\n",
    "                                 output=model_non_zero.layers[2].output)\n",
    "y_output_non_zero = intermediate_layer_model.predict(x_test_non_zero)\n",
    "y_output_non_zero_pd = pd.DataFrame(y_output_non_zero)\n",
    "y_test_non_zero_pd = pd.DataFrame(y_test_non_zero)"
   ]
  },
  {
   "cell_type": "code",
   "execution_count": 43,
   "metadata": {},
   "outputs": [
    {
     "data": {
      "text/plain": [
       "0    99.0\n",
       "dtype: float64"
      ]
     },
     "execution_count": 43,
     "metadata": {},
     "output_type": "execute_result"
    }
   ],
   "source": [
    "y_test_non_zero_pd.plot()"
   ]
  },
  {
   "cell_type": "code",
   "execution_count": 42,
   "metadata": {
    "scrolled": true
   },
   "outputs": [
    {
     "data": {
      "text/plain": [
       "0    28.270281\n",
       "dtype: float32"
      ]
     },
     "execution_count": 42,
     "metadata": {},
     "output_type": "execute_result"
    }
   ],
   "source": [
    "y_output_non_zero_pd.plot()"
   ]
  },
  {
   "cell_type": "code",
   "execution_count": 17,
   "metadata": {},
   "outputs": [
    {
     "name": "stdout",
     "output_type": "stream",
     "text": [
      "---------- y_test_non_zero ----------\n",
      "min= 1\n",
      "max= 99\n",
      "mean= 12.092645818962213\n",
      "median= 5.0\n",
      "std= 17.575026711571724\n",
      "var= 308.8815639124596\n",
      "\n",
      "---------- y_output_non_zero ----------\n",
      "min= 0.29922366\n",
      "max= 76.73287\n",
      "mean= 16.179586\n",
      "median= 15.938181\n",
      "std= 7.645302\n",
      "var= 58.45064\n"
     ]
    }
   ],
   "source": [
    "print('---------- y_test_non_zero ----------')\n",
    "print('min=', np.min(y_test_non_zero))\n",
    "print('max=', np.max(y_test_non_zero))\n",
    "print('mean=', np.mean(y_test_non_zero))\n",
    "print('median=', np.median(y_test_non_zero))\n",
    "print('std=', np.std(y_test_non_zero))\n",
    "print('var=', np.var(y_test_non_zero))\n",
    "\n",
    "print('\\n---------- y_output_non_zero ----------')\n",
    "print('min=', np.min(y_output_non_zero))\n",
    "print('max=', np.max(y_output_non_zero))\n",
    "print('mean=', np.mean(y_output_non_zero))\n",
    "print('median=', np.median(y_output_non_zero))\n",
    "print('std=', np.std(y_output_non_zero))\n",
    "print('var=', np.var(y_output_non_zero))"
   ]
  }
 ],
 "metadata": {
  "kernelspec": {
   "display_name": "Python 3",
   "language": "python",
   "name": "python3"
  },
  "language_info": {
   "codemirror_mode": {
    "name": "ipython",
    "version": 3
   },
   "file_extension": ".py",
   "mimetype": "text/x-python",
   "name": "python",
   "nbconvert_exporter": "python",
   "pygments_lexer": "ipython3",
   "version": "3.6.5"
  }
 },
 "nbformat": 4,
 "nbformat_minor": 2
}
