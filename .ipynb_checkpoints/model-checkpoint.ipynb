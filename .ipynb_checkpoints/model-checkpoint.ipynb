{
 "cells": [
  {
   "cell_type": "code",
   "execution_count": 1,
   "metadata": {},
   "outputs": [],
   "source": [
    "import warnings\n",
    "warnings.filterwarnings('ignore')"
   ]
  },
  {
   "cell_type": "code",
   "execution_count": 2,
   "metadata": {},
   "outputs": [
    {
     "name": "stderr",
     "output_type": "stream",
     "text": [
      "Using TensorFlow backend.\n"
     ]
    }
   ],
   "source": [
    "import numpy as np\n",
    "import pandas as pd\n",
    "import matplotlib.pyplot as plt\n",
    "from pandas import Series, DataFrame\n",
    "from sklearn.decomposition import PCA \n",
    "from sklearn.preprocessing import normalize\n",
    "from keras.models import Sequential, Model\n",
    "from keras.layers import Dense, Dropout\n",
    "from keras.utils import np_utils\n",
    "from keras.optimizers import RMSprop\n"
   ]
  },
  {
   "cell_type": "markdown",
   "metadata": {},
   "source": [
    "## Load the data\n",
    "\n",
    "dataset is [datax, datay]"
   ]
  },
  {
   "cell_type": "code",
   "execution_count": 3,
   "metadata": {
    "scrolled": true
   },
   "outputs": [],
   "source": [
    "datax = pd.read_csv('../feature.csv', sep='\\t')\n",
    "datay = pd.read_csv('output_y.csv', sep='\\t')"
   ]
  },
  {
   "cell_type": "code",
   "execution_count": 4,
   "metadata": {
    "scrolled": true
   },
   "outputs": [],
   "source": [
    "# merge x and y, and drop NA\n",
    "pd_data = pd.concat([datax,datay],axis=1)\n",
    "pd_data = pd_data.dropna(axis=0, how='any') \n",
    "#Remove bad data\n",
    "pd_data = pd_data[~pd_data['discount_rate'].isin(['販売価格'])]\n",
    "pd_data = pd_data[~pd_data['discount_rate'].isin(['ダミー'])]"
   ]
  },
  {
   "cell_type": "markdown",
   "metadata": {},
   "source": [
    "### normalization"
   ]
  },
  {
   "cell_type": "code",
   "execution_count": 5,
   "metadata": {},
   "outputs": [],
   "source": [
    "data1 = pd_data[['deal_category_cd','shop_id','deal_type_cd','deal_price','discount_rate','month','duration_days']]\n",
    "data2 = pd_data.drop(['deal_category_cd','shop_id','deal_type_cd','deal_price','discount_rate','month','duration_days'], axis=1)\n",
    "data1 = normalize(data1, axis=0, norm='max')\n",
    "data2 = np.array(data2)\n",
    "data1 = DataFrame(data1)\n",
    "data2 = DataFrame(data2)\n",
    "\n",
    "pd_data_normalized = pd.concat([data1,data2],axis=1)\n",
    "\n",
    "dataset = np.array(pd_data_normalized)\n",
    "dataset = dataset.astype(np.float64)"
   ]
  },
  {
   "cell_type": "markdown",
   "metadata": {},
   "source": [
    "### pick data gruop via range of y"
   ]
  },
  {
   "cell_type": "code",
   "execution_count": 6,
   "metadata": {},
   "outputs": [],
   "source": [
    "dataset_100 = dataset[dataset[:,207]<100,:]\n",
    "dataset_1000 = dataset[dataset[:,207]<1000,:]\n",
    "dataset_2000 = dataset[dataset[:,207]<2000,:]"
   ]
  },
  {
   "cell_type": "code",
   "execution_count": 7,
   "metadata": {},
   "outputs": [],
   "source": [
    "def dataPick(oriData, lowLmt, upLmt, idx_y=207):\n",
    "    result = dataset[dataset[:,idx_y]<upLmt,:]\n",
    "    result = result[result[:,idx_y]>=lowLmt,:]\n",
    "    return result"
   ]
  },
  {
   "cell_type": "code",
   "execution_count": 8,
   "metadata": {},
   "outputs": [],
   "source": [
    "dataset_100 = dataPick(dataset, 0, 100)\n",
    "dataset_1000 = dataPick(dataset, 0, 1000)\n",
    "dataset_2000 = dataPick(dataset, 0, 2000)"
   ]
  },
  {
   "cell_type": "code",
   "execution_count": 94,
   "metadata": {},
   "outputs": [
    {
     "data": {
      "text/plain": [
       "(91147, 208)"
      ]
     },
     "execution_count": 94,
     "metadata": {},
     "output_type": "execute_result"
    }
   ],
   "source": [
    "z = dataPick(dataset,0,1)\n",
    "z.shape"
   ]
  },
  {
   "cell_type": "code",
   "execution_count": null,
   "metadata": {},
   "outputs": [],
   "source": []
  },
  {
   "cell_type": "code",
   "execution_count": null,
   "metadata": {},
   "outputs": [],
   "source": []
  },
  {
   "cell_type": "code",
   "execution_count": 9,
   "metadata": {},
   "outputs": [
    {
     "data": {
      "text/plain": [
       "(155335, 208)"
      ]
     },
     "execution_count": 9,
     "metadata": {},
     "output_type": "execute_result"
    }
   ],
   "source": [
    "dataset_100.shape"
   ]
  },
  {
   "cell_type": "code",
   "execution_count": 10,
   "metadata": {},
   "outputs": [
    {
     "data": {
      "text/plain": [
       "(158267, 208)"
      ]
     },
     "execution_count": 10,
     "metadata": {},
     "output_type": "execute_result"
    }
   ],
   "source": [
    "dataset_1000.shape"
   ]
  },
  {
   "cell_type": "code",
   "execution_count": 11,
   "metadata": {},
   "outputs": [
    {
     "data": {
      "text/plain": [
       "(158351, 208)"
      ]
     },
     "execution_count": 11,
     "metadata": {},
     "output_type": "execute_result"
    }
   ],
   "source": [
    "dataset_2000.shape"
   ]
  },
  {
   "cell_type": "code",
   "execution_count": 12,
   "metadata": {},
   "outputs": [
    {
     "data": {
      "text/plain": [
       "(158437, 208)"
      ]
     },
     "execution_count": 12,
     "metadata": {},
     "output_type": "execute_result"
    }
   ],
   "source": [
    "dataset.shape"
   ]
  },
  {
   "cell_type": "markdown",
   "metadata": {},
   "source": [
    "## Set data\n",
    "\n",
    "- Set number of train data and test data\n",
    "- seperate x and y  from dataset"
   ]
  },
  {
   "cell_type": "code",
   "execution_count": 13,
   "metadata": {},
   "outputs": [],
   "source": [
    "feature_dim = 207"
   ]
  },
  {
   "cell_type": "code",
   "execution_count": 14,
   "metadata": {},
   "outputs": [],
   "source": [
    "def sepTrainX(dataset, percentage=0.1):\n",
    "    train = dataset[:np.trunc(len(dataset)*percentage).astype(np.int)]\n",
    "    test = dataset[np.trunc(len(dataset)*percentage).astype(np.int):]\n",
    "    return train, test"
   ]
  },
  {
   "cell_type": "code",
   "execution_count": 15,
   "metadata": {},
   "outputs": [],
   "source": [
    "def sepXY(dataset, feature_dim, percentage=0.1):\n",
    "    traindata, testdata = sepTrainX(dataset, percentage)\n",
    "    x_train = traindata[:,0:feature_dim]\n",
    "    y_train = traindata[:,feature_dim:]\n",
    "    x_test = testdata[:,0:feature_dim]\n",
    "    y_test = testdata[:,feature_dim:]\n",
    "    return x_train, y_train, x_test, y_test"
   ]
  },
  {
   "cell_type": "code",
   "execution_count": 16,
   "metadata": {
    "scrolled": true
   },
   "outputs": [],
   "source": [
    "#seperate x and y  from dataset\n",
    "x_train_100, y_train_100, x_test_100, y_test_100 = sepXY(dataset_100, feature_dim)\n",
    "x_train_1000, y_train_1000, x_test_1000, y_test_1000 = sepXY(dataset_1000, feature_dim)\n",
    "x_train_2000, y_train_2000, x_test_2000, y_test_2000 = sepXY(dataset_2000, feature_dim)"
   ]
  },
  {
   "cell_type": "markdown",
   "metadata": {},
   "source": [
    "## Set class tag"
   ]
  },
  {
   "cell_type": "code",
   "execution_count": 78,
   "metadata": {},
   "outputs": [],
   "source": [
    "def Amt2Cat(amount, yMin, yRange, numClasses=10):\n",
    "    amount_class = np.trunc((amount-yMin)/(yRange/10)).astype(np.int)\n",
    "    amount_class = np_utils.to_categorical(amount_class, num_classes=numClasses)\n",
    "    return amount_class"
   ]
  },
  {
   "cell_type": "code",
   "execution_count": 79,
   "metadata": {},
   "outputs": [],
   "source": [
    "y_train_class_100 = Amt2Cat(y_train_100, 0, 100)\n",
    "y_train_class_1000 = Amt2Cat(y_train_1000, 0, 1000)\n",
    "y_train_class_2000 = Amt2Cat(y_train_2000, 0, 2000)\n",
    "\n",
    "y_test_class_100 = Amt2Cat(y_test_100, 0, 100)\n",
    "y_test_class_1000 = Amt2Cat(y_test_1000, 0, 1000)\n",
    "y_test_class_2000 = Amt2Cat(y_test_2000, 0, 2000)"
   ]
  },
  {
   "cell_type": "markdown",
   "metadata": {},
   "source": [
    "## Build model"
   ]
  },
  {
   "cell_type": "code",
   "execution_count": 87,
   "metadata": {},
   "outputs": [],
   "source": [
    "def setModel():\n",
    "    model = Sequential()\n",
    "\n",
    "    model.add(Dense(256, input_dim=feature_dim, activation='relu')) \n",
    "    model.add(Dropout(0.2))\n",
    "\n",
    "    model.add(Dense(512, activation='relu')) \n",
    "    model.add(Dropout(0.2))\n",
    "\n",
    "    model.add(Dense(512, activation='relu')) \n",
    "    model.add(Dropout(0.2))\n",
    "    \n",
    "    model.add(Dense(10, activation='softmax')) \n",
    "\n",
    "    # Define your optimizer\n",
    "    rmsprop = RMSprop(lr=0.001, rho=0.9, epsilon=1e-08, decay=0.0)\n",
    "    model.compile(loss='categorical_crossentropy', optimizer=rmsprop, metrics=['accuracy'])\n",
    "    \n",
    "    return model"
   ]
  },
  {
   "cell_type": "markdown",
   "metadata": {},
   "source": [
    "## Traning and testing"
   ]
  },
  {
   "cell_type": "markdown",
   "metadata": {},
   "source": [
    "### dataset y<100"
   ]
  },
  {
   "cell_type": "code",
   "execution_count": 88,
   "metadata": {
    "scrolled": false
   },
   "outputs": [
    {
     "name": "stdout",
     "output_type": "stream",
     "text": [
      "Training -----------\n",
      "Epoch 1/2\n",
      "15533/15533 [==============================] - 7s 443us/step - loss: 0.0080 - acc: 0.9980\n",
      "Epoch 2/2\n",
      "15533/15533 [==============================] - 5s 335us/step - loss: 0.0021 - acc: 0.9999\n"
     ]
    },
    {
     "data": {
      "text/plain": [
       "<keras.callbacks.History at 0x7f12e115f898>"
      ]
     },
     "execution_count": 88,
     "metadata": {},
     "output_type": "execute_result"
    }
   ],
   "source": [
    "# training\n",
    "print('Training -----------')\n",
    "model = setModel()\n",
    "model.fit(x_train_100, y_train_class_100, epochs=2, batch_size = 20)"
   ]
  },
  {
   "cell_type": "code",
   "execution_count": 89,
   "metadata": {},
   "outputs": [
    {
     "name": "stdout",
     "output_type": "stream",
     "text": [
      "\n",
      "Testing ------------\n",
      "139802/139802 [==============================] - 11s 77us/step\n",
      "test loss:  2.4922738953418886\n",
      "test accuracy:  0.8453741715410776\n"
     ]
    }
   ],
   "source": [
    "print('\\nTesting ------------')\n",
    "loss, accuracy = model.evaluate(x_test_100, y_test_class_100, batch_size=20)\n",
    "\n",
    "print('test loss: ', loss)\n",
    "print('test accuracy: ', accuracy)"
   ]
  },
  {
   "cell_type": "code",
   "execution_count": null,
   "metadata": {},
   "outputs": [],
   "source": []
  },
  {
   "cell_type": "markdown",
   "metadata": {},
   "source": [
    "### dataset y<1000"
   ]
  },
  {
   "cell_type": "code",
   "execution_count": 50,
   "metadata": {
    "scrolled": false
   },
   "outputs": [
    {
     "name": "stdout",
     "output_type": "stream",
     "text": [
      "Training -----------\n",
      "Epoch 1/2\n",
      "15826/15826 [==============================] - 5s 301us/step - loss: 0.0048 - acc: 0.9987\n",
      "Epoch 2/2\n",
      "15826/15826 [==============================] - 4s 272us/step - loss: 0.0010 - acc: 0.9999\n"
     ]
    },
    {
     "data": {
      "text/plain": [
       "<keras.callbacks.History at 0x7f1346487550>"
      ]
     },
     "execution_count": 50,
     "metadata": {},
     "output_type": "execute_result"
    }
   ],
   "source": [
    "# training\n",
    "model = setModel()\n",
    "print('Training -----------')\n",
    "model.fit(x_train_1000, y_train_class_1000, epochs=2, batch_size = 20)"
   ]
  },
  {
   "cell_type": "code",
   "execution_count": 51,
   "metadata": {},
   "outputs": [
    {
     "name": "stdout",
     "output_type": "stream",
     "text": [
      "\n",
      "Testing ------------\n",
      "142441/142441 [==============================] - 7s 48us/step\n",
      "test loss:  0.3316611721127818\n",
      "test accuracy:  0.9794230555958445\n"
     ]
    }
   ],
   "source": [
    "print('\\nTesting ------------')\n",
    "loss, accuracy = model.evaluate(x_test_1000, y_test_class_1000, batch_size=20)\n",
    "\n",
    "print('test loss: ', loss)\n",
    "print('test accuracy: ', accuracy)"
   ]
  },
  {
   "cell_type": "code",
   "execution_count": null,
   "metadata": {},
   "outputs": [],
   "source": []
  },
  {
   "cell_type": "markdown",
   "metadata": {},
   "source": [
    "### dataset y<2000"
   ]
  },
  {
   "cell_type": "code",
   "execution_count": 52,
   "metadata": {
    "scrolled": false
   },
   "outputs": [
    {
     "name": "stdout",
     "output_type": "stream",
     "text": [
      "Training -----------\n",
      "Epoch 1/2\n",
      "15835/15835 [==============================] - 5s 287us/step - loss: 0.0010 - acc: 0.9999\n",
      "Epoch 2/2\n",
      "15835/15835 [==============================] - 4s 268us/step - loss: 0.0010 - acc: 0.9999\n"
     ]
    },
    {
     "data": {
      "text/plain": [
       "<keras.callbacks.History at 0x7f13454b3b70>"
      ]
     },
     "execution_count": 52,
     "metadata": {},
     "output_type": "execute_result"
    }
   ],
   "source": [
    "# training\n",
    "model = setModel()\n",
    "print('Training -----------')\n",
    "model.fit(x_train_2000, y_train_class_2000, epochs=2, batch_size = 20)"
   ]
  },
  {
   "cell_type": "code",
   "execution_count": 53,
   "metadata": {},
   "outputs": [
    {
     "name": "stdout",
     "output_type": "stream",
     "text": [
      "\n",
      "Testing ------------\n",
      "142516/142516 [==============================] - 6s 44us/step\n",
      "test loss:  0.12972206600509553\n",
      "test accuracy:  0.9919517790425714\n"
     ]
    }
   ],
   "source": [
    "print('\\nTesting ------------')\n",
    "loss, accuracy = model_2000.evaluate(x_test_2000, y_test_class_2000, batch_size=20)\n",
    "\n",
    "print('test loss: ', loss)\n",
    "print('test accuracy: ', accuracy)"
   ]
  },
  {
   "cell_type": "code",
   "execution_count": null,
   "metadata": {},
   "outputs": [],
   "source": []
  },
  {
   "cell_type": "markdown",
   "metadata": {},
   "source": [
    "## within 2000, 10 classifiers"
   ]
  },
  {
   "cell_type": "code",
   "execution_count": 84,
   "metadata": {
    "scrolled": true
   },
   "outputs": [
    {
     "name": "stdout",
     "output_type": "stream",
     "text": [
      "range of y = ( 0 , 200 )\n",
      "Training -----------\n",
      "Epoch 1/2\n",
      "15720/15720 [==============================] - 6s 361us/step - loss: 0.0050 - acc: 0.9987\n",
      "Epoch 2/2\n",
      "15720/15720 [==============================] - 5s 287us/step - loss: 0.0021 - acc: 0.9999\n",
      "\n",
      "Testing ------------\n",
      "141483/141483 [==============================] - 8s 57us/step\n",
      "test loss:  1.5944591833298587\n",
      "test accuracy:  0.9010764525638925\n",
      "\n",
      "\n",
      "range of y = ( 200 , 400 )\n",
      "Training -----------\n",
      "Epoch 1/2\n",
      "77/77 [==============================] - 1s 15ms/step - loss: 2.4699 - acc: 0.0909\n",
      "Epoch 2/2\n",
      "77/77 [==============================] - 0s 371us/step - loss: 2.1691 - acc: 0.2208\n",
      "\n",
      "Testing ------------\n",
      "701/701 [==============================] - 1s 727us/step\n",
      "test loss:  2.236192620939943\n",
      "test accuracy:  0.18544936050447008\n",
      "\n",
      "\n",
      "range of y = ( 400 , 600 )\n",
      "Training -----------\n",
      "Epoch 1/2\n",
      "17/17 [==============================] - 1s 73ms/step - loss: 2.3168 - acc: 0.1176\n",
      "Epoch 2/2\n",
      "17/17 [==============================] - 0s 343us/step - loss: 1.8443 - acc: 0.3529\n",
      "\n",
      "Testing ------------\n",
      "162/162 [==============================] - 0s 3ms/step\n",
      "test loss:  2.354894205375954\n",
      "test accuracy:  0.11728395227296853\n",
      "\n",
      "\n",
      "range of y = ( 600 , 800 )\n",
      "Training -----------\n",
      "Epoch 1/2\n",
      "7/7 [==============================] - 1s 181ms/step - loss: 2.3427 - acc: 0.0000e+00\n",
      "Epoch 2/2\n",
      "7/7 [==============================] - 0s 772us/step - loss: 1.7061 - acc: 0.4286\n",
      "\n",
      "Testing ------------\n",
      "63/63 [==============================] - 0s 8ms/step\n",
      "test loss:  2.927478748654562\n",
      "test accuracy:  0.14285714640503838\n",
      "\n",
      "\n",
      "range of y = ( 800 , 1000 )\n",
      "Training -----------\n",
      "Epoch 1/2\n",
      "3/3 [==============================] - 1s 451ms/step - loss: 2.2475 - acc: 0.0000e+00\n",
      "Epoch 2/2\n",
      "3/3 [==============================] - 0s 2ms/step - loss: 1.2067 - acc: 0.6667\n",
      "\n",
      "Testing ------------\n",
      "34/34 [==============================] - 1s 15ms/step\n",
      "test loss:  2.4728389627793255\n",
      "test accuracy:  0.23529411852359772\n",
      "\n",
      "\n",
      "range of y = ( 1000 , 1200 )\n",
      "Training -----------\n",
      "Epoch 1/2\n",
      "2/2 [==============================] - 1s 678ms/step - loss: 2.2229 - acc: 0.5000\n",
      "Epoch 2/2\n",
      "2/2 [==============================] - 0s 3ms/step - loss: 0.9464 - acc: 1.0000\n",
      "\n",
      "Testing ------------\n",
      "21/21 [==============================] - 1s 27ms/step\n",
      "test loss:  2.786308277220953\n",
      "test accuracy:  0.23809523809523808\n",
      "\n",
      "\n",
      "range of y = ( 1200 , 1400 )\n",
      "Training -----------\n",
      "Epoch 1/2\n",
      "1/1 [==============================] - 1s 1s/step - loss: 2.1969 - acc: 0.0000e+00\n",
      "Epoch 2/2\n",
      "1/1 [==============================] - 0s 4ms/step - loss: 0.6526 - acc: 1.0000\n",
      "\n",
      "Testing ------------\n",
      "14/14 [==============================] - 1s 38ms/step\n",
      "test loss:  5.160676002502441\n",
      "test accuracy:  0.0714285746216774\n",
      "\n",
      "\n",
      "range of y = ( 1400 , 1600 )\n",
      "Training -----------\n",
      "Epoch 1/2\n",
      "1/1 [==============================] - 1s 1s/step - loss: 2.5463 - acc: 0.0000e+00\n",
      "Epoch 2/2\n",
      "1/1 [==============================] - 0s 5ms/step - loss: 0.5621 - acc: 1.0000\n",
      "\n",
      "Testing ------------\n",
      "16/16 [==============================] - 1s 35ms/step\n",
      "test loss:  4.138965606689453\n",
      "test accuracy:  0.1875\n",
      "\n",
      "\n",
      "range of y = ( 1600 , 1800 )\n",
      "Training -----------\n",
      "Epoch 1/2\n",
      "1/1 [==============================] - 1s 1s/step - loss: 1.8299 - acc: 0.0000e+00\n",
      "Epoch 2/2\n",
      "1/1 [==============================] - 0s 4ms/step - loss: 0.2816 - acc: 1.0000\n",
      "\n",
      "Testing ------------\n",
      "16/16 [==============================] - 1s 35ms/step\n",
      "test loss:  5.1071858406066895\n",
      "test accuracy:  0.0625\n",
      "\n",
      "\n",
      "range of y = ( 1800 , 2000 )\n",
      "Training -----------\n",
      "Epoch 1/2\n",
      "1/1 [==============================] - 2s 2s/step - loss: 2.7078 - acc: 0.0000e+00\n",
      "Epoch 2/2\n",
      "1/1 [==============================] - 0s 5ms/step - loss: 1.0719 - acc: 1.0000\n",
      "\n",
      "Testing ------------\n",
      "11/11 [==============================] - 1s 56ms/step\n",
      "test loss:  4.0705718994140625\n",
      "test accuracy:  0.0\n",
      "\n",
      "\n"
     ]
    }
   ],
   "source": [
    "for i in range(0, 10):\n",
    "    dataset_temp = dataPick(dataset, i*200, (i+1)*200)\n",
    "    x_train, y_train, x_test, y_test = sepXY(dataset_temp, feature_dim)\n",
    "    y_train_class = Amt2Cat(y_train, i*200, 200)\n",
    "    y_test_class = Amt2Cat(y_test, i*200, 200)\n",
    "    print('range of y = (', i*200, ',', (i+1)*200, ')\\n')\n",
    "    \n",
    "    model = setModel()\n",
    "    \n",
    "    print('Training -----------')\n",
    "    model.fit(x_train, y_train_class, epochs=2, batch_size = 20)\n",
    "    \n",
    "    print('Testing ------------')\n",
    "    loss, accuracy = model.evaluate(x_test, y_test_class, batch_size=20)\n",
    "    print('test loss: ', loss)\n",
    "    print('test accuracy: ', accuracy)\n",
    "    print('\\n')"
   ]
  },
  {
   "cell_type": "markdown",
   "metadata": {},
   "source": [
    "## PCA"
   ]
  },
  {
   "cell_type": "code",
   "execution_count": 19,
   "metadata": {},
   "outputs": [],
   "source": [
    "feature_dim = 207"
   ]
  },
  {
   "cell_type": "code",
   "execution_count": 20,
   "metadata": {},
   "outputs": [],
   "source": [
    "feature = dataset[:,0:207]"
   ]
  },
  {
   "cell_type": "code",
   "execution_count": 21,
   "metadata": {},
   "outputs": [],
   "source": [
    "pca=PCA(n_components=feature_dim)\n",
    "feature_pca=pca.fit_transform(feature)"
   ]
  },
  {
   "cell_type": "code",
   "execution_count": 22,
   "metadata": {},
   "outputs": [
    {
     "data": {
      "text/plain": [
       "(158437, 208)"
      ]
     },
     "execution_count": 22,
     "metadata": {},
     "output_type": "execute_result"
    }
   ],
   "source": [
    "dataset_pca = np.concatenate((feature_pca,dataset[:,207:208]),axis=1)\n",
    "dataset_pca.shape"
   ]
  },
  {
   "cell_type": "code",
   "execution_count": 23,
   "metadata": {},
   "outputs": [
    {
     "data": {
      "text/plain": [
       "(67290, 208)"
      ]
     },
     "execution_count": 23,
     "metadata": {},
     "output_type": "execute_result"
    }
   ],
   "source": [
    "dataset_pca_non_zero = dataset_pca[dataset_pca[:,feature_dim]!=0,:]\n",
    "dataset_pca_non_zero.shape"
   ]
  }
 ],
 "metadata": {
  "kernelspec": {
   "display_name": "Python 3",
   "language": "python",
   "name": "python3"
  },
  "language_info": {
   "codemirror_mode": {
    "name": "ipython",
    "version": 3
   },
   "file_extension": ".py",
   "mimetype": "text/x-python",
   "name": "python",
   "nbconvert_exporter": "python",
   "pygments_lexer": "ipython3",
   "version": "3.6.5"
  }
 },
 "nbformat": 4,
 "nbformat_minor": 2
}
