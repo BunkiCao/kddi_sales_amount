{
 "cells": [
  {
   "cell_type": "code",
   "execution_count": 1,
   "metadata": {},
   "outputs": [],
   "source": [
    "import warnings\n",
    "warnings.filterwarnings('ignore')"
   ]
  },
  {
   "cell_type": "code",
   "execution_count": 2,
   "metadata": {},
   "outputs": [
    {
     "name": "stderr",
     "output_type": "stream",
     "text": [
      "Using TensorFlow backend.\n"
     ]
    }
   ],
   "source": [
    "import numpy as np\n",
    "import pandas as pd\n",
    "from pandas import DataFrame\n",
    "from keras.models import Sequential, Model\n",
    "from keras.layers import Dense, Dropout\n",
    "from keras import optimizers\n",
    "import matplotlib.pyplot as plt\n",
    "from sklearn.decomposition import PCA "
   ]
  },
  {
   "cell_type": "code",
   "execution_count": 3,
   "metadata": {},
   "outputs": [],
   "source": [
    "#datasetx = genfromtxt('feature.csv', delimiter='\\t', skip_header=1)\n",
    "#datasety = genfromtxt('output_y.csv', delimiter='\\t', skip_header=1)"
   ]
  },
  {
   "cell_type": "markdown",
   "metadata": {},
   "source": [
    "## Load the data\n",
    "\n",
    "dataset is [datax, datay] before PCA  \n",
    "dataset_PCA is that after PCA"
   ]
  },
  {
   "cell_type": "code",
   "execution_count": 4,
   "metadata": {
    "scrolled": true
   },
   "outputs": [],
   "source": [
    "datax = pd.read_csv('feature.csv', sep='\\t')\n",
    "datay = pd.read_csv('output_y.csv', sep='\\t')"
   ]
  },
  {
   "cell_type": "code",
   "execution_count": 5,
   "metadata": {
    "scrolled": true
   },
   "outputs": [],
   "source": [
    "# merge x and y, and drop NA\n",
    "pd_data=pd.concat([datax,datay],axis=1)\n",
    "pd_data = pd_data.dropna(axis=0, how='any') \n",
    "#Remove bad data\n",
    "pd_data = pd_data[~pd_data['discount_rate'].isin(['販売価格'])]\n",
    "pd_data = pd_data[~pd_data['discount_rate'].isin(['ダミー'])]\n",
    "#pick proper data, y<100\n",
    "dataset = np.array(pd_data)\n",
    "dataset = dataset[dataset[:,207]<100,:]\n",
    "dataset_non_zero = dataset[dataset[:,207]!=0,:]"
   ]
  },
  {
   "cell_type": "code",
   "execution_count": 6,
   "metadata": {},
   "outputs": [
    {
     "data": {
      "text/plain": [
       "(155335, 208)"
      ]
     },
     "execution_count": 6,
     "metadata": {},
     "output_type": "execute_result"
    }
   ],
   "source": [
    "dataset.shape"
   ]
  },
  {
   "cell_type": "code",
   "execution_count": 7,
   "metadata": {},
   "outputs": [
    {
     "data": {
      "text/plain": [
       "(64188, 208)"
      ]
     },
     "execution_count": 7,
     "metadata": {},
     "output_type": "execute_result"
    }
   ],
   "source": [
    "dataset_non_zero.shape"
   ]
  },
  {
   "cell_type": "markdown",
   "metadata": {},
   "source": [
    "## PCA"
   ]
  },
  {
   "cell_type": "code",
   "execution_count": 8,
   "metadata": {},
   "outputs": [],
   "source": [
    "feature = dataset[:,0:207]"
   ]
  },
  {
   "cell_type": "code",
   "execution_count": 9,
   "metadata": {},
   "outputs": [
    {
     "data": {
      "text/plain": [
       "(155335, 207)"
      ]
     },
     "execution_count": 9,
     "metadata": {},
     "output_type": "execute_result"
    }
   ],
   "source": [
    "feature.shape"
   ]
  },
  {
   "cell_type": "code",
   "execution_count": 10,
   "metadata": {},
   "outputs": [],
   "source": [
    "feature_dim = 207"
   ]
  },
  {
   "cell_type": "code",
   "execution_count": 11,
   "metadata": {},
   "outputs": [],
   "source": [
    "pca=PCA(n_components=feature_dim)\n",
    "feature_pca=pca.fit_transform(feature)"
   ]
  },
  {
   "cell_type": "code",
   "execution_count": 12,
   "metadata": {},
   "outputs": [
    {
     "data": {
      "text/plain": [
       "(155335, 207)"
      ]
     },
     "execution_count": 12,
     "metadata": {},
     "output_type": "execute_result"
    }
   ],
   "source": [
    "feature_pca.shape"
   ]
  },
  {
   "cell_type": "code",
   "execution_count": 13,
   "metadata": {},
   "outputs": [
    {
     "data": {
      "text/plain": [
       "(155335, 208)"
      ]
     },
     "execution_count": 13,
     "metadata": {},
     "output_type": "execute_result"
    }
   ],
   "source": [
    "dataset_pca = np.concatenate((feature_pca,dataset[:,207:208]),axis=1)\n",
    "dataset_pca.shape"
   ]
  },
  {
   "cell_type": "code",
   "execution_count": 14,
   "metadata": {},
   "outputs": [
    {
     "data": {
      "text/plain": [
       "(64188, 208)"
      ]
     },
     "execution_count": 14,
     "metadata": {},
     "output_type": "execute_result"
    }
   ],
   "source": [
    "dataset_pca_non_zero = dataset_pca[dataset_pca[:,feature_dim]!=0,:]\n",
    "dataset_pca_non_zero.shape"
   ]
  },
  {
   "cell_type": "code",
   "execution_count": 15,
   "metadata": {},
   "outputs": [
    {
     "data": {
      "text/plain": [
       "(64188, 208)"
      ]
     },
     "execution_count": 15,
     "metadata": {},
     "output_type": "execute_result"
    }
   ],
   "source": [
    "dataset_pca_non_zero.shape"
   ]
  },
  {
   "cell_type": "markdown",
   "metadata": {},
   "source": [
    "## Model"
   ]
  },
  {
   "cell_type": "code",
   "execution_count": 10,
   "metadata": {
    "scrolled": true
   },
   "outputs": [],
   "source": [
    "feature_dim = 207\n",
    "\n",
    "traindata = dataset[:20000]\n",
    "testdata = dataset[20000:]\n",
    "\n",
    "traindata_non_zero = dataset_non_zero[:12000]\n",
    "testdata_non_zero = dataset_non_zero[12000:]"
   ]
  },
  {
   "cell_type": "code",
   "execution_count": 11,
   "metadata": {
    "scrolled": true
   },
   "outputs": [],
   "source": [
    "x_train, y_train = traindata[:,0:feature_dim], traindata[:,feature_dim:]\n",
    "x_test, y_test = testdata[:,0:feature_dim], testdata[:,feature_dim:]\n",
    "\n",
    "x_train_non_zero, y_train_non_zero = traindata_non_zero[:,0:feature_dim], traindata_non_zero[:,feature_dim:]\n",
    "x_test_non_zero, y_test_non_zero = testdata_non_zero[:,0:feature_dim], testdata_non_zero[:,feature_dim:]"
   ]
  },
  {
   "cell_type": "code",
   "execution_count": 12,
   "metadata": {},
   "outputs": [],
   "source": [
    "model = Sequential()\n",
    "\n",
    "model.add(Dense(150, input_dim=feature_dim, init='normal', activation='relu')) \n",
    "#model.add(Dropout(0.2))\n",
    "\n",
    "model.add(Dense(50, init='normal', activation='relu')) \n",
    "#model.add(Dropout(0.2))\n",
    "\n",
    "model.add(Dense(1, init='normal')) \n",
    "\n",
    "#adam = optimizers.Adam(lr=0.001, beta_1=0.9, beta_2=0.999, epsilon=None, decay=0.0, amsgrad=False)\n",
    "model.compile(loss='mse', optimizer='rmsprop', metrics=['mae'])"
   ]
  },
  {
   "cell_type": "code",
   "execution_count": 13,
   "metadata": {},
   "outputs": [],
   "source": [
    "model_non_zero = Sequential()\n",
    "\n",
    "model_non_zero.add(Dense(150, input_dim=feature_dim, init='normal', activation='relu')) \n",
    "#model.add(Dropout(0.2))\n",
    "\n",
    "model_non_zero.add(Dense(50, init='normal', activation='relu')) \n",
    "#model.add(Dropout(0.2))\n",
    "\n",
    "model_non_zero.add(Dense(1, init='normal')) \n",
    "\n",
    "#adam = optimizers.Adam(lr=0.001, beta_1=0.9, beta_2=0.999, epsilon=None, decay=0.0, amsgrad=False)\n",
    "model_non_zero.compile(loss='mse', optimizer='rmsprop', metrics=['mae'])"
   ]
  },
  {
   "cell_type": "markdown",
   "metadata": {},
   "source": [
    "## Traning and testing"
   ]
  },
  {
   "cell_type": "markdown",
   "metadata": {},
   "source": [
    "### dataset y<100, y!=0"
   ]
  },
  {
   "cell_type": "code",
   "execution_count": 14,
   "metadata": {},
   "outputs": [
    {
     "name": "stdout",
     "output_type": "stream",
     "text": [
      "Training -----------\n",
      "Epoch 1/7\n",
      "12000/12000 [==============================] - 1s 75us/step - loss: 443.4608 - mean_absolute_error: 13.5249\n",
      "Epoch 2/7\n",
      "12000/12000 [==============================] - 1s 68us/step - loss: 331.4277 - mean_absolute_error: 11.9551\n",
      "Epoch 3/7\n",
      "12000/12000 [==============================] - 1s 67us/step - loss: 310.5222 - mean_absolute_error: 11.6478\n",
      "Epoch 4/7\n",
      "12000/12000 [==============================] - 1s 66us/step - loss: 305.6025 - mean_absolute_error: 11.5396\n",
      "Epoch 5/7\n",
      "12000/12000 [==============================] - 1s 66us/step - loss: 302.1468 - mean_absolute_error: 11.4585\n",
      "Epoch 6/7\n",
      "12000/12000 [==============================] - 1s 66us/step - loss: 299.4324 - mean_absolute_error: 11.4206\n",
      "Epoch 7/7\n",
      "12000/12000 [==============================] - 1s 76us/step - loss: 296.9802 - mean_absolute_error: 11.3755\n"
     ]
    },
    {
     "data": {
      "text/plain": [
       "<keras.callbacks.History at 0x7f3e60a6a748>"
      ]
     },
     "execution_count": 14,
     "metadata": {},
     "output_type": "execute_result"
    }
   ],
   "source": [
    "# training\n",
    "print('Training -----------')\n",
    "model_non_zero.fit(x_train_non_zero, y_train_non_zero, epochs=7, batch_size = 20)"
   ]
  },
  {
   "cell_type": "code",
   "execution_count": 15,
   "metadata": {},
   "outputs": [
    {
     "name": "stdout",
     "output_type": "stream",
     "text": [
      "52188/52188 [==============================] - 1s 20us/step\n",
      "mse= 292.4511747755675 \n",
      "mae= 12.663783947846035\n"
     ]
    }
   ],
   "source": [
    "val_mse, val_mae = model_non_zero.evaluate(x_test_non_zero, y_test_non_zero, batch_size=20)\n",
    "print ('mse=',val_mse, '\\nmae=',val_mae)"
   ]
  },
  {
   "cell_type": "code",
   "execution_count": 16,
   "metadata": {},
   "outputs": [],
   "source": [
    "intermediate_layer_model = Model(input=model_non_zero.input,\n",
    "                                 output=model_non_zero.layers[2].output)\n",
    "y_output_non_zero = intermediate_layer_model.predict(x_test_non_zero)\n",
    "y_output_non_zero_pd = pd.DataFrame(y_output_non_zero)\n",
    "y_test_non_zero_pd = pd.DataFrame(y_test_non_zero)"
   ]
  },
  {
   "cell_type": "code",
   "execution_count": 17,
   "metadata": {},
   "outputs": [
    {
     "name": "stdout",
     "output_type": "stream",
     "text": [
      "---------- y_test_non_zero ----------\n",
      "min= 1\n",
      "max= 99\n",
      "mean= 12.092645818962213\n",
      "median= 5.0\n",
      "std= 17.575026711571724\n",
      "var= 308.8815639124596\n",
      "\n",
      "---------- y_output_non_zero ----------\n",
      "min= 0.29922366\n",
      "max= 76.73287\n",
      "mean= 16.179586\n",
      "median= 15.938181\n",
      "std= 7.645302\n",
      "var= 58.45064\n"
     ]
    }
   ],
   "source": [
    "print('---------- y_test_non_zero ----------')\n",
    "print('min=', np.min(y_test_non_zero))\n",
    "print('max=', np.max(y_test_non_zero))\n",
    "print('mean=', np.mean(y_test_non_zero))\n",
    "print('median=', np.median(y_test_non_zero))\n",
    "print('std=', np.std(y_test_non_zero))\n",
    "print('var=', np.var(y_test_non_zero))\n",
    "\n",
    "print('\\n---------- y_output_non_zero ----------')\n",
    "print('min=', np.min(y_output_non_zero))\n",
    "print('max=', np.max(y_output_non_zero))\n",
    "print('mean=', np.mean(y_output_non_zero))\n",
    "print('median=', np.median(y_output_non_zero))\n",
    "print('std=', np.std(y_output_non_zero))\n",
    "print('var=', np.var(y_output_non_zero))"
   ]
  },
  {
   "cell_type": "markdown",
   "metadata": {},
   "source": [
    "### dataset y<100"
   ]
  },
  {
   "cell_type": "code",
   "execution_count": 20,
   "metadata": {
    "scrolled": true
   },
   "outputs": [
    {
     "name": "stdout",
     "output_type": "stream",
     "text": [
      "Training -----------\n",
      "Epoch 1/7\n",
      "20000/20000 [==============================] - 1s 67us/step - loss: 5.6269 - mean_absolute_error: 0.0284\n",
      "Epoch 2/7\n",
      "20000/20000 [==============================] - 1s 67us/step - loss: 1695.5525 - mean_absolute_error: 0.3040\n",
      "Epoch 3/7\n",
      "20000/20000 [==============================] - 1s 69us/step - loss: 4.1218 - mean_absolute_error: 0.0264\n",
      "Epoch 4/7\n",
      "20000/20000 [==============================] - 1s 63us/step - loss: 777.9694 - mean_absolute_error: 0.2096\n",
      "Epoch 5/7\n",
      "20000/20000 [==============================] - 1s 68us/step - loss: 0.6627 - mean_absolute_error: 0.0139\n",
      "Epoch 6/7\n",
      "20000/20000 [==============================] - 1s 70us/step - loss: 573.9242 - mean_absolute_error: 0.1828\n",
      "Epoch 7/7\n",
      "20000/20000 [==============================] - 1s 67us/step - loss: 27.6274 - mean_absolute_error: 0.0491\n"
     ]
    },
    {
     "data": {
      "text/plain": [
       "<keras.callbacks.History at 0x7f3e60a6a940>"
      ]
     },
     "execution_count": 20,
     "metadata": {},
     "output_type": "execute_result"
    }
   ],
   "source": [
    "# training\n",
    "print('Training -----------')\n",
    "model.fit(x_train, y_train, epochs=7, batch_size = 20)"
   ]
  },
  {
   "cell_type": "code",
   "execution_count": 21,
   "metadata": {},
   "outputs": [
    {
     "name": "stdout",
     "output_type": "stream",
     "text": [
      "135335/135335 [==============================] - 2s 18us/step\n",
      "mse= 287.60044103119753 \n",
      "mae= 5.886247474813724\n"
     ]
    }
   ],
   "source": [
    "val_mse, val_mae = model.evaluate(x_test, y_test, batch_size=20)\n",
    "print ('mse=',val_mse, '\\nmae=',val_mae)"
   ]
  },
  {
   "cell_type": "code",
   "execution_count": 24,
   "metadata": {
    "scrolled": true
   },
   "outputs": [],
   "source": [
    "intermediate_layer_model = Model(input=model.input,\n",
    "                                 output=model.layers[2].output)\n",
    "y_output = intermediate_layer_model.predict(x_test)\n",
    "y_output_pd = pd.DataFrame(y_output)\n",
    "y_test_pd = pd.DataFrame(y_test)"
   ]
  },
  {
   "cell_type": "code",
   "execution_count": 25,
   "metadata": {},
   "outputs": [
    {
     "name": "stdout",
     "output_type": "stream",
     "text": [
      "---------- y_test ----------\n",
      "min= 0\n",
      "max= 99\n",
      "mean= 5.833272989248901\n",
      "median= 0.0\n",
      "std= 13.62077414809642\n",
      "var= 185.52548839345172\n",
      "\n",
      "---------- y_output ----------\n",
      "min= -2185.8335\n",
      "max= -0.0006866165\n",
      "mean= -0.05297448\n",
      "median= -0.0006866165\n",
      "std= 8.247453\n",
      "var= 68.02048\n"
     ]
    }
   ],
   "source": [
    "print('---------- y_test ----------')\n",
    "print('min=', np.min(y_test))\n",
    "print('max=', np.max(y_test))\n",
    "print('mean=', np.mean(y_test))\n",
    "print('median=', np.median(y_test))\n",
    "print('std=', np.std(y_test))\n",
    "print('var=', np.var(y_test))\n",
    "\n",
    "print('\\n---------- y_output ----------')\n",
    "print('min=', np.min(y_output))\n",
    "print('max=', np.max(y_output))\n",
    "print('mean=', np.mean(y_output))\n",
    "print('median=', np.median(y_output))\n",
    "print('std=', np.std(y_output))\n",
    "print('var=', np.var(y_output))"
   ]
  },
  {
   "cell_type": "code",
   "execution_count": null,
   "metadata": {},
   "outputs": [],
   "source": []
  }
 ],
 "metadata": {
  "kernelspec": {
   "display_name": "Python 3",
   "language": "python",
   "name": "python3"
  },
  "language_info": {
   "codemirror_mode": {
    "name": "ipython",
    "version": 3
   },
   "file_extension": ".py",
   "mimetype": "text/x-python",
   "name": "python",
   "nbconvert_exporter": "python",
   "pygments_lexer": "ipython3",
   "version": "3.6.5"
  }
 },
 "nbformat": 4,
 "nbformat_minor": 2
}
