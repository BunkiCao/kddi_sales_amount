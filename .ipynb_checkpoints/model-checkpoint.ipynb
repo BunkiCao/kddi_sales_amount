{
 "cells": [
  {
   "cell_type": "code",
   "execution_count": 1,
   "metadata": {},
   "outputs": [],
   "source": [
    "import warnings\n",
    "warnings.filterwarnings('ignore')"
   ]
  },
  {
   "cell_type": "code",
   "execution_count": 2,
   "metadata": {},
   "outputs": [
    {
     "name": "stderr",
     "output_type": "stream",
     "text": [
      "Using TensorFlow backend.\n"
     ]
    }
   ],
   "source": [
    "import numpy as np\n",
    "import pandas as pd\n",
    "import matplotlib.pyplot as plt\n",
    "from pandas import Series, DataFrame\n",
    "from sklearn.decomposition import PCA \n",
    "from sklearn.preprocessing import normalize\n",
    "from keras.models import Sequential, Model\n",
    "from keras.layers import Dense, Dropout\n",
    "from keras.utils import np_utils\n",
    "from keras.optimizers import RMSprop\n"
   ]
  },
  {
   "cell_type": "code",
   "execution_count": 3,
   "metadata": {},
   "outputs": [],
   "source": [
    "#datasetx = genfromtxt('feature.csv', delimiter='\\t', skip_header=1)\n",
    "#datasety = genfromtxt('output_y.csv', delimiter='\\t', skip_header=1)"
   ]
  },
  {
   "cell_type": "markdown",
   "metadata": {},
   "source": [
    "## Load the data\n",
    "\n",
    "dataset is [datax, datay] before PCA  \n",
    "dataset_PCA is that after PCA"
   ]
  },
  {
   "cell_type": "code",
   "execution_count": 4,
   "metadata": {
    "scrolled": true
   },
   "outputs": [],
   "source": [
    "datax = pd.read_csv('../feature.csv', sep='\\t')\n",
    "datay = pd.read_csv('output_y.csv', sep='\\t')"
   ]
  },
  {
   "cell_type": "code",
   "execution_count": 5,
   "metadata": {
    "scrolled": true
   },
   "outputs": [],
   "source": [
    "# merge x and y, and drop NA\n",
    "pd_data = pd.concat([datax,datay],axis=1)\n",
    "pd_data = pd_data.dropna(axis=0, how='any') \n",
    "#Remove bad data\n",
    "pd_data = pd_data[~pd_data['discount_rate'].isin(['販売価格'])]\n",
    "pd_data = pd_data[~pd_data['discount_rate'].isin(['ダミー'])]"
   ]
  },
  {
   "cell_type": "markdown",
   "metadata": {},
   "source": [
    "### normalization"
   ]
  },
  {
   "cell_type": "code",
   "execution_count": 6,
   "metadata": {},
   "outputs": [],
   "source": [
    "data1 = pd_data[['deal_category_cd','shop_id','deal_type_cd','deal_price','discount_rate','month','duration_days']]\n",
    "data2 = pd_data.drop(['deal_category_cd','shop_id','deal_type_cd','deal_price','discount_rate','month','duration_days'], axis=1)\n",
    "data1 = normalize(data1, axis=0, norm='max')\n",
    "data2 = np.array(data2)\n",
    "data1 = DataFrame(data1)\n",
    "data2 = DataFrame(data2)\n",
    "pd_data_normalized = pd.concat([data1,data2],axis=1)"
   ]
  },
  {
   "cell_type": "code",
   "execution_count": 8,
   "metadata": {},
   "outputs": [],
   "source": [
    "#pick proper data, y<100\n",
    "dataset = np.array(pd_data_normalized)\n",
    "dataset = dataset.astype(np.float64)\n",
    "\n",
    "dataset_100 = dataset[dataset[:,207]<100,:]\n",
    "dataset_1000 = dataset[dataset[:,207]<1000,:]"
   ]
  },
  {
   "cell_type": "code",
   "execution_count": 9,
   "metadata": {},
   "outputs": [
    {
     "data": {
      "text/plain": [
       "(158267, 208)"
      ]
     },
     "execution_count": 9,
     "metadata": {},
     "output_type": "execute_result"
    }
   ],
   "source": [
    "dataset_1000.shape"
   ]
  },
  {
   "cell_type": "code",
   "execution_count": 10,
   "metadata": {},
   "outputs": [
    {
     "data": {
      "text/plain": [
       "(155335, 208)"
      ]
     },
     "execution_count": 10,
     "metadata": {},
     "output_type": "execute_result"
    }
   ],
   "source": [
    "dataset_100.shape"
   ]
  },
  {
   "cell_type": "markdown",
   "metadata": {},
   "source": [
    "## Set data"
   ]
  },
  {
   "cell_type": "code",
   "execution_count": 11,
   "metadata": {
    "scrolled": true
   },
   "outputs": [],
   "source": [
    "feature_dim = 207\n",
    "\n",
    "traindata_100 = dataset_100[:30000]\n",
    "testdata_100 = dataset_100[30000:]\n",
    "\n",
    "traindata_1000 = dataset_1000[:30000]\n",
    "testdata_1000 = dataset_1000[30000:]"
   ]
  },
  {
   "cell_type": "code",
   "execution_count": 12,
   "metadata": {
    "scrolled": true
   },
   "outputs": [],
   "source": [
    "x_train_100, y_train_100 = traindata_100[:,0:feature_dim], traindata_100[:,207:]\n",
    "x_test_100, y_test_100 = testdata_100[:,0:feature_dim], testdata_100[:,207:]\n",
    "\n",
    "x_train_1000, y_train_1000 = traindata_1000[:,0:feature_dim], traindata_1000[:,207:]\n",
    "x_test_1000, y_test_1000 = testdata_1000[:,0:feature_dim], testdata_1000[:,207:]"
   ]
  },
  {
   "cell_type": "markdown",
   "metadata": {},
   "source": [
    "## Set class tag"
   ]
  },
  {
   "cell_type": "code",
   "execution_count": 13,
   "metadata": {},
   "outputs": [],
   "source": [
    "y_train_class_100 = np.trunc(y_train_100/10)\n",
    "y_train_class_100 = y_train_class_100.astype(np.int)\n",
    "y_train_class_100 = np_utils.to_categorical(y_train_class_100, num_classes=10)\n",
    "\n",
    "y_test_class_100 = np.trunc(y_test_100/10)\n",
    "y_test_class_100 = y_test_class_100.astype(np.int)\n",
    "y_test_class_100 = np_utils.to_categorical(y_test_class_100, num_classes=10)"
   ]
  },
  {
   "cell_type": "code",
   "execution_count": 14,
   "metadata": {},
   "outputs": [],
   "source": [
    "y_train_class_1000 = np.trunc(y_train_1000/100)\n",
    "y_train_class_1000 = y_train_class_1000.astype(np.int)\n",
    "y_train_class_1000 = np_utils.to_categorical(y_train_class_1000, num_classes=10)\n",
    "\n",
    "y_test_class_1000 = np.trunc(y_test_1000/100)\n",
    "y_test_class_1000 = y_test_class_1000.astype(np.int)\n",
    "y_test_class_1000 = np_utils.to_categorical(y_test_class_1000, num_classes=10)"
   ]
  },
  {
   "cell_type": "markdown",
   "metadata": {},
   "source": [
    "## Traning and testing\n",
    "### dataset y<100"
   ]
  },
  {
   "cell_type": "markdown",
   "metadata": {},
   "source": [
    "### Model"
   ]
  },
  {
   "cell_type": "code",
   "execution_count": 24,
   "metadata": {},
   "outputs": [],
   "source": [
    "model = Sequential()\n",
    "\n",
    "model.add(Dense(256, input_dim=feature_dim, activation='relu')) \n",
    "model.add(Dropout(0.2))\n",
    "\n",
    "model.add(Dense(512, activation='relu')) \n",
    "model.add(Dropout(0.2))\n",
    "\n",
    "model.add(Dense(512, activation='relu')) \n",
    "model.add(Dropout(0.2))\n",
    "\n",
    "model.add(Dense(10, activation='softmax')) \n",
    "\n",
    "# Define your optimizer\n",
    "rmsprop = RMSprop(lr=0.001, rho=0.9, epsilon=1e-08, decay=0.0)\n",
    "\n",
    "model.compile(loss='categorical_crossentropy', optimizer=rmsprop, metrics=['accuracy'])"
   ]
  },
  {
   "cell_type": "code",
   "execution_count": 25,
   "metadata": {
    "scrolled": false
   },
   "outputs": [
    {
     "name": "stdout",
     "output_type": "stream",
     "text": [
      "Training -----------\n",
      "Epoch 1/2\n",
      "30000/30000 [==============================] - 8s 272us/step - loss: 0.0060 - acc: 0.9991\n",
      "Epoch 2/2\n",
      "30000/30000 [==============================] - 8s 262us/step - loss: 0.0043 - acc: 0.9997\n"
     ]
    },
    {
     "data": {
      "text/plain": [
       "<keras.callbacks.History at 0x7f598ddfcba8>"
      ]
     },
     "execution_count": 25,
     "metadata": {},
     "output_type": "execute_result"
    }
   ],
   "source": [
    "# training\n",
    "print('Training -----------')\n",
    "model.fit(x_train_100, y_train_class_100, epochs=2, batch_size = 20)"
   ]
  },
  {
   "cell_type": "code",
   "execution_count": 26,
   "metadata": {},
   "outputs": [
    {
     "name": "stdout",
     "output_type": "stream",
     "text": [
      "\n",
      "Testing ------------\n",
      "125335/125335 [==============================] - 5s 41us/step\n",
      "test loss:  2.779177123906677\n",
      "test accuracy:  0.827574100930761\n"
     ]
    }
   ],
   "source": [
    "print('\\nTesting ------------')\n",
    "loss, accuracy = model.evaluate(x_test_100, y_test_class_100, batch_size=20)\n",
    "\n",
    "print('test loss: ', loss)\n",
    "print('test accuracy: ', accuracy)"
   ]
  },
  {
   "cell_type": "code",
   "execution_count": null,
   "metadata": {},
   "outputs": [],
   "source": []
  },
  {
   "cell_type": "markdown",
   "metadata": {},
   "source": [
    "### dataset y<1000"
   ]
  },
  {
   "cell_type": "markdown",
   "metadata": {},
   "source": [
    "### Model"
   ]
  },
  {
   "cell_type": "code",
   "execution_count": 21,
   "metadata": {},
   "outputs": [],
   "source": [
    "model = Sequential()\n",
    "\n",
    "model.add(Dense(256, input_dim=feature_dim, activation='relu')) \n",
    "model.add(Dropout(0.2))\n",
    "\n",
    "model.add(Dense(512, activation='relu')) \n",
    "model.add(Dropout(0.2))\n",
    "\n",
    "model.add(Dense(512, activation='relu')) \n",
    "model.add(Dropout(0.2))\n",
    "\n",
    "model.add(Dense(10, activation='softmax')) \n",
    "\n",
    "# Define your optimizer\n",
    "rmsprop = RMSprop(lr=0.001, rho=0.9, epsilon=1e-08, decay=0.0)\n",
    "\n",
    "model.compile(loss='categorical_crossentropy', optimizer=rmsprop, metrics=['accuracy'])"
   ]
  },
  {
   "cell_type": "code",
   "execution_count": 22,
   "metadata": {
    "scrolled": false
   },
   "outputs": [
    {
     "name": "stdout",
     "output_type": "stream",
     "text": [
      "Training -----------\n",
      "Epoch 1/2\n",
      "30000/30000 [==============================] - 8s 269us/step - loss: 0.0024 - acc: 0.9993\n",
      "Epoch 2/2\n",
      "30000/30000 [==============================] - 8s 262us/step - loss: 5.3739e-04 - acc: 1.0000\n"
     ]
    },
    {
     "data": {
      "text/plain": [
       "<keras.callbacks.History at 0x7f598dd634a8>"
      ]
     },
     "execution_count": 22,
     "metadata": {},
     "output_type": "execute_result"
    }
   ],
   "source": [
    "# training\n",
    "print('Training -----------')\n",
    "model.fit(x_train_1000, y_train_class_1000, epochs=2, batch_size = 20)"
   ]
  },
  {
   "cell_type": "code",
   "execution_count": 23,
   "metadata": {},
   "outputs": [
    {
     "name": "stdout",
     "output_type": "stream",
     "text": [
      "\n",
      "Testing ------------\n",
      "128267/128267 [==============================] - 5s 37us/step\n",
      "test loss:  0.36831100209598894\n",
      "test accuracy:  0.9771492234777657\n"
     ]
    }
   ],
   "source": [
    "print('\\nTesting ------------')\n",
    "loss, accuracy = model.evaluate(x_test_1000, y_test_class_1000, batch_size=20)\n",
    "\n",
    "print('test loss: ', loss)\n",
    "print('test accuracy: ', accuracy)"
   ]
  },
  {
   "cell_type": "code",
   "execution_count": null,
   "metadata": {},
   "outputs": [],
   "source": []
  },
  {
   "cell_type": "markdown",
   "metadata": {},
   "source": [
    "### dataset y<100, y!=0"
   ]
  },
  {
   "cell_type": "code",
   "execution_count": 23,
   "metadata": {},
   "outputs": [],
   "source": [
    "model_non_zero = Sequential()\n",
    "\n",
    "model_non_zero.add(Dense(128, input_dim=feature_dim, activation='relu')) \n",
    "model_non_zero.add(Dropout(0.2))\n",
    "\n",
    "model_non_zero.add(Dense(256, activation='relu')) \n",
    "model_non_zero.add(Dropout(0.2))\n",
    "\n",
    "model_non_zero.add(Dense(256, activation='relu')) \n",
    "model_non_zero.add(Dropout(0.2))\n",
    "\n",
    "model_non_zero.add(Dense(10, activation='softmax')) \n",
    "\n",
    "# Define your optimizer\n",
    "rmsprop = RMSprop(lr=0.001, rho=0.9, epsilon=1e-08, decay=0.0)\n",
    "\n",
    "model_non_zero.compile(loss='categorical_crossentropy', optimizer=rmsprop, metrics=['accuracy'])"
   ]
  },
  {
   "cell_type": "code",
   "execution_count": 27,
   "metadata": {},
   "outputs": [
    {
     "name": "stdout",
     "output_type": "stream",
     "text": [
      "Training -----------\n",
      "Epoch 1/2\n",
      "42000/42000 [==============================] - 5s 108us/step - loss: 1.1882 - acc: 0.6488\n",
      "Epoch 2/2\n",
      "42000/42000 [==============================] - 4s 105us/step - loss: 1.2305 - acc: 0.6493\n"
     ]
    },
    {
     "data": {
      "text/plain": [
       "<keras.callbacks.History at 0x7f8e3b9083c8>"
      ]
     },
     "execution_count": 27,
     "metadata": {},
     "output_type": "execute_result"
    }
   ],
   "source": [
    "# training\n",
    "print('Training -----------')\n",
    "model_non_zero.fit(x_train_non_zero, y_train_non_zero_class, epochs=2, batch_size = 20)"
   ]
  },
  {
   "cell_type": "code",
   "execution_count": 28,
   "metadata": {},
   "outputs": [
    {
     "name": "stdout",
     "output_type": "stream",
     "text": [
      "\n",
      "Testing ------------\n",
      "22188/22188 [==============================] - 1s 28us/step\n",
      "test loss:  5.004396994070511\n",
      "test accuracy:  0.6895168564202271\n"
     ]
    }
   ],
   "source": [
    "print('\\nTesting ------------')\n",
    "# Evaluate the model with the metrics we defined earlier\n",
    "loss, accuracy = model.evaluate(x_test_non_zero, y_test_non_zero_class, batch_size=20)\n",
    "\n",
    "print('test loss: ', loss)\n",
    "print('test accuracy: ', accuracy)"
   ]
  },
  {
   "cell_type": "code",
   "execution_count": 29,
   "metadata": {},
   "outputs": [],
   "source": [
    "intermediate_layer_model = Model(input=model_non_zero.input,\n",
    "                                 output=model_non_zero.layers[6].output)\n",
    "y_output_non_zero = intermediate_layer_model.predict(x_test_non_zero)"
   ]
  },
  {
   "cell_type": "code",
   "execution_count": 30,
   "metadata": {},
   "outputs": [
    {
     "data": {
      "text/plain": [
       "(22188, 10)"
      ]
     },
     "execution_count": 30,
     "metadata": {},
     "output_type": "execute_result"
    }
   ],
   "source": [
    "y_output_non_zero.shape"
   ]
  },
  {
   "cell_type": "code",
   "execution_count": 31,
   "metadata": {},
   "outputs": [
    {
     "name": "stdout",
     "output_type": "stream",
     "text": [
      "---------- y_test_non_zero ----------\n",
      "min= 1.0\n",
      "max= 99.0\n",
      "mean= 11.45366864972057\n",
      "median= 4.0\n",
      "std= 17.070577166667004\n",
      "var= 291.4046048031329\n",
      "\n",
      "---------- y_output_non_zero ----------\n",
      "min= 0.0\n",
      "max= 1.0\n",
      "mean= 0.1\n",
      "median= 0.018392518\n",
      "std= 0.2134152\n",
      "var= 0.04554605\n"
     ]
    }
   ],
   "source": [
    "print('---------- y_test_non_zero ----------')\n",
    "print('min=', np.min(y_test_non_zero))\n",
    "print('max=', np.max(y_test_non_zero))\n",
    "print('mean=', np.mean(y_test_non_zero))\n",
    "print('median=', np.median(y_test_non_zero))\n",
    "print('std=', np.std(y_test_non_zero))\n",
    "print('var=', np.var(y_test_non_zero))\n",
    "\n",
    "print('\\n---------- y_output_non_zero ----------')\n",
    "print('min=', np.min(y_output_non_zero))\n",
    "print('max=', np.max(y_output_non_zero))\n",
    "print('mean=', np.mean(y_output_non_zero))\n",
    "print('median=', np.median(y_output_non_zero))\n",
    "print('std=', np.std(y_output_non_zero))\n",
    "print('var=', np.var(y_output_non_zero))"
   ]
  },
  {
   "cell_type": "markdown",
   "metadata": {},
   "source": [
    "## PCA"
   ]
  },
  {
   "cell_type": "code",
   "execution_count": 19,
   "metadata": {},
   "outputs": [],
   "source": [
    "feature_dim = 207"
   ]
  },
  {
   "cell_type": "code",
   "execution_count": 20,
   "metadata": {},
   "outputs": [],
   "source": [
    "feature = dataset[:,0:207]"
   ]
  },
  {
   "cell_type": "code",
   "execution_count": 21,
   "metadata": {},
   "outputs": [],
   "source": [
    "pca=PCA(n_components=feature_dim)\n",
    "feature_pca=pca.fit_transform(feature)"
   ]
  },
  {
   "cell_type": "code",
   "execution_count": 22,
   "metadata": {},
   "outputs": [
    {
     "data": {
      "text/plain": [
       "(158437, 208)"
      ]
     },
     "execution_count": 22,
     "metadata": {},
     "output_type": "execute_result"
    }
   ],
   "source": [
    "dataset_pca = np.concatenate((feature_pca,dataset[:,207:208]),axis=1)\n",
    "dataset_pca.shape"
   ]
  },
  {
   "cell_type": "code",
   "execution_count": 23,
   "metadata": {},
   "outputs": [
    {
     "data": {
      "text/plain": [
       "(67290, 208)"
      ]
     },
     "execution_count": 23,
     "metadata": {},
     "output_type": "execute_result"
    }
   ],
   "source": [
    "dataset_pca_non_zero = dataset_pca[dataset_pca[:,feature_dim]!=0,:]\n",
    "dataset_pca_non_zero.shape"
   ]
  }
 ],
 "metadata": {
  "kernelspec": {
   "display_name": "Python 3",
   "language": "python",
   "name": "python3"
  },
  "language_info": {
   "codemirror_mode": {
    "name": "ipython",
    "version": 3
   },
   "file_extension": ".py",
   "mimetype": "text/x-python",
   "name": "python",
   "nbconvert_exporter": "python",
   "pygments_lexer": "ipython3",
   "version": "3.6.5"
  }
 },
 "nbformat": 4,
 "nbformat_minor": 2
}
