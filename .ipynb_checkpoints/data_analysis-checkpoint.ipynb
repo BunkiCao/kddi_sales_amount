{
 "cells": [
  {
   "cell_type": "code",
   "execution_count": 1,
   "metadata": {},
   "outputs": [],
   "source": [
    "import warnings\n",
    "warnings.filterwarnings('ignore')"
   ]
  },
  {
   "cell_type": "code",
   "execution_count": 2,
   "metadata": {},
   "outputs": [],
   "source": [
    "import numpy as np\n",
    "import pandas as pd\n",
    "import matplotlib.pyplot as plt"
   ]
  },
  {
   "cell_type": "markdown",
   "metadata": {},
   "source": [
    "## Load the data y"
   ]
  },
  {
   "cell_type": "code",
   "execution_count": 34,
   "metadata": {},
   "outputs": [],
   "source": [
    "datax = pd.read_csv('feature.csv', sep='\\t')\n",
    "datay = pd.read_csv('output_y.csv', sep='\\t')\n",
    "pd_data=pd.concat([datax,datay],axis=1)\n",
    "pd_data_na = pd_data.dropna(axis=0, how='any') \n",
    "pd_data_na['discount_rate'] = pd_data_na['discount_rate'].apply(lambda x: 0 if (x == '販売価格') or (x == 'ダミー') else x)"
   ]
  },
  {
   "cell_type": "code",
   "execution_count": 61,
   "metadata": {
    "scrolled": true
   },
   "outputs": [],
   "source": [
    "y = pd_data_na[['sale_amount']]\n",
    "y_non_zero = y[~y['sale_amount'].isin([0])]"
   ]
  },
  {
   "cell_type": "code",
   "execution_count": 113,
   "metadata": {},
   "outputs": [
    {
     "name": "stdout",
     "output_type": "stream",
     "text": [
      "-----info. of output y-----\n",
      "acount = 158453\n",
      "min = 0\n",
      "max = 26460\n",
      "mean = 12\n",
      "median = 0\n",
      "std = 182\n",
      "var = 33461\n"
     ]
    }
   ],
   "source": [
    "print('-----info. of output y-----')\n",
    "print('acount = {}'.format(y.shape[0]))\n",
    "print('min = {}'.format(int(y.min())))\n",
    "print('max = {}'.format(int(y.max())))\n",
    "print('mean = {}'.format(int(y.mean())))\n",
    "print('median = {}'.format(int(y.median())))\n",
    "print('std = {}'.format(int(y.std())))\n",
    "print('var = {}'.format(int(y.var())))"
   ]
  },
  {
   "cell_type": "code",
   "execution_count": 111,
   "metadata": {},
   "outputs": [
    {
     "data": {
      "text/plain": [
       "98.04232169791673"
      ]
     },
     "execution_count": 111,
     "metadata": {},
     "output_type": "execute_result"
    }
   ],
   "source": [
    "y_100 = y[y['sale_amount']<100]\n",
    "y_100.shape[0]/y.shape[0]*100"
   ]
  },
  {
   "cell_type": "code",
   "execution_count": 116,
   "metadata": {},
   "outputs": [
    {
     "data": {
      "text/plain": [
       "(155351, 1)"
      ]
     },
     "execution_count": 116,
     "metadata": {},
     "output_type": "execute_result"
    }
   ],
   "source": [
    "y_100.shape"
   ]
  },
  {
   "cell_type": "code",
   "execution_count": 114,
   "metadata": {},
   "outputs": [
    {
     "name": "stdout",
     "output_type": "stream",
     "text": [
      "-----info. of output y-----\n",
      "acount = 155351\n",
      "min = 0\n",
      "max = 99\n",
      "mean = 5\n",
      "median = 0\n",
      "std = 12\n",
      "var = 165\n"
     ]
    }
   ],
   "source": [
    "print('-----info. of output y-----')\n",
    "print('acount = {}'.format(y_100.shape[0]))\n",
    "print('min = {}'.format(int(y_100.min())))\n",
    "print('max = {}'.format(int(y_100.max())))\n",
    "print('mean = {}'.format(int(y_100.mean())))\n",
    "print('median = {}'.format(int(y_100.median())))\n",
    "print('std = {}'.format(int(y_100.std())))\n",
    "print('var = {}'.format(int(y_100.var())))"
   ]
  }
 ],
 "metadata": {
  "kernelspec": {
   "display_name": "Python 3",
   "language": "python",
   "name": "python3"
  },
  "language_info": {
   "codemirror_mode": {
    "name": "ipython",
    "version": 3
   },
   "file_extension": ".py",
   "mimetype": "text/x-python",
   "name": "python",
   "nbconvert_exporter": "python",
   "pygments_lexer": "ipython3",
   "version": "3.6.5"
  }
 },
 "nbformat": 4,
 "nbformat_minor": 2
}
