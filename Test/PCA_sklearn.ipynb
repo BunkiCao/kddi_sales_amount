{
 "cells": [
  {
   "cell_type": "code",
   "execution_count": 1,
   "metadata": {},
   "outputs": [],
   "source": [
    "import warnings\n",
    "warnings.filterwarnings('ignore')"
   ]
  },
  {
   "cell_type": "code",
   "execution_count": 2,
   "metadata": {},
   "outputs": [],
   "source": [
    "import numpy as np\n",
    "import pandas as pd\n",
    "import matplotlib.pyplot as plt\n",
    "from sklearn.decomposition import PCA "
   ]
  },
  {
   "cell_type": "code",
   "execution_count": 3,
   "metadata": {},
   "outputs": [],
   "source": [
    "datax = pd.read_csv('feature.csv', sep='\\t')\n",
    "datay = pd.read_csv('output_y.csv', sep='\\t')\n",
    "\n",
    "pd_data=pd.concat([datax,datay],axis=1)\n",
    "pd_data_na = pd_data.dropna(axis=0, how='any') \n",
    "pd_data_na['discount_rate'] = pd_data_na['discount_rate'].apply(lambda x: 0 if (x == '販売価格') or (x == 'ダミー') else x)\n",
    "dataset = np.array(pd_data_na)\n",
    "non_zero_dataset = dataset[dataset[:,207]!=0,:]"
   ]
  },
  {
   "cell_type": "code",
   "execution_count": 20,
   "metadata": {},
   "outputs": [],
   "source": [
    "original_feature = dataset[:,0:207]"
   ]
  },
  {
   "cell_type": "code",
   "execution_count": 21,
   "metadata": {},
   "outputs": [
    {
     "data": {
      "text/plain": [
       "(158453, 207)"
      ]
     },
     "execution_count": 21,
     "metadata": {},
     "output_type": "execute_result"
    }
   ],
   "source": [
    "original_feature.shape"
   ]
  },
  {
   "cell_type": "code",
   "execution_count": 24,
   "metadata": {},
   "outputs": [],
   "source": [
    "pca=PCA(n_components=100)\n",
    "pca_feature=pca.fit_transform(original_feature)"
   ]
  },
  {
   "cell_type": "code",
   "execution_count": 25,
   "metadata": {},
   "outputs": [
    {
     "data": {
      "text/plain": [
       "array([[-5.13950851e+03,  5.42914533e+03, -6.56603808e+01, ...,\n",
       "        -2.68638927e-02, -8.17945849e-02,  2.57907283e-01],\n",
       "       [-5.19664197e+03,  1.58913148e+03,  9.31098261e+00, ...,\n",
       "         9.21390009e-02,  2.21545869e-02, -3.13158362e-03],\n",
       "       [-5.08815049e+03,  2.03949434e+03,  8.02486722e+00, ...,\n",
       "        -1.04373092e-01, -3.86491788e-03,  7.48068036e-02],\n",
       "       ...,\n",
       "       [ 1.94845972e+03, -2.90607752e+03, -2.78084438e+01, ...,\n",
       "         8.31646802e-03,  2.15343119e-03,  8.34126216e-02],\n",
       "       [ 1.54787731e+03,  6.22059687e+03, -5.28866237e+01, ...,\n",
       "         2.26572388e-01, -3.26468492e-02,  1.17690911e-01],\n",
       "       [ 1.68455416e+03, -7.70993941e+03, -3.08444020e+00, ...,\n",
       "        -1.44985708e-02, -2.98238865e-01,  4.23456880e-02]])"
      ]
     },
     "execution_count": 25,
     "metadata": {},
     "output_type": "execute_result"
    }
   ],
   "source": [
    "pca_feature"
   ]
  },
  {
   "cell_type": "code",
   "execution_count": 27,
   "metadata": {},
   "outputs": [
    {
     "data": {
      "text/plain": [
       "dtype('float64')"
      ]
     },
     "execution_count": 27,
     "metadata": {},
     "output_type": "execute_result"
    }
   ],
   "source": [
    "pca_feature.dtype"
   ]
  },
  {
   "cell_type": "code",
   "execution_count": null,
   "metadata": {},
   "outputs": [],
   "source": []
  }
 ],
 "metadata": {
  "kernelspec": {
   "display_name": "Python 3",
   "language": "python",
   "name": "python3"
  },
  "language_info": {
   "codemirror_mode": {
    "name": "ipython",
    "version": 3
   },
   "file_extension": ".py",
   "mimetype": "text/x-python",
   "name": "python",
   "nbconvert_exporter": "python",
   "pygments_lexer": "ipython3",
   "version": "3.6.5"
  }
 },
 "nbformat": 4,
 "nbformat_minor": 2
}
