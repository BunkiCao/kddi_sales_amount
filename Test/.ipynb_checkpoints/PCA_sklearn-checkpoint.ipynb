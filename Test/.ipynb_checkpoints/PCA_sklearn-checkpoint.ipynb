{
 "cells": [
  {
   "cell_type": "code",
   "execution_count": 1,
   "metadata": {},
   "outputs": [],
   "source": [
    "import warnings\n",
    "warnings.filterwarnings('ignore')"
   ]
  },
  {
   "cell_type": "code",
   "execution_count": 2,
   "metadata": {},
   "outputs": [],
   "source": [
    "import numpy as np\n",
    "import pandas as pd\n",
    "import matplotlib.pyplot as plt\n",
    "from sklearn.decomposition import PCA "
   ]
  },
  {
   "cell_type": "code",
   "execution_count": 5,
   "metadata": {},
   "outputs": [],
   "source": [
    "data=([[ 1.  ,  1.  ],\n",
    "       [ 0.9 ,  0.95],\n",
    "       [ 1.01,  1.03],\n",
    "       [ 2.  ,  2.  ],\n",
    "       [ 2.03,  2.06],\n",
    "       [ 1.98,  1.89],\n",
    "       [ 3.  ,  3.  ],\n",
    "       [ 3.03,  3.05],\n",
    "       [ 2.89,  3.1 ],\n",
    "       [ 4.  ,  4.  ],\n",
    "       [ 4.06,  4.02],\n",
    "       [ 3.97,  4.01]])"
   ]
  },
  {
   "cell_type": "code",
   "execution_count": 11,
   "metadata": {},
   "outputs": [],
   "source": [
    "pca=PCA(n_components='mle')"
   ]
  },
  {
   "cell_type": "code",
   "execution_count": 12,
   "metadata": {},
   "outputs": [
    {
     "data": {
      "text/plain": [
       "array([[ 2.12015916],\n",
       "       [ 2.22617682],\n",
       "       [ 2.09185561],\n",
       "       [ 0.70594692],\n",
       "       [ 0.64227841],\n",
       "       [ 0.79795758],\n",
       "       [-0.70826533],\n",
       "       [-0.76485312],\n",
       "       [-0.70139695],\n",
       "       [-2.12247757],\n",
       "       [-2.17900746],\n",
       "       [-2.10837406]])"
      ]
     },
     "execution_count": 12,
     "metadata": {},
     "output_type": "execute_result"
    }
   ],
   "source": [
    "newData=pca.fit_transform(data)\n",
    "newData"
   ]
  },
  {
   "cell_type": "code",
   "execution_count": 13,
   "metadata": {},
   "outputs": [
    {
     "data": {
      "text/plain": [
       "array([0.99910873])"
      ]
     },
     "execution_count": 13,
     "metadata": {},
     "output_type": "execute_result"
    }
   ],
   "source": [
    "pca.explained_variance_ratio_"
   ]
  },
  {
   "cell_type": "code",
   "execution_count": 14,
   "metadata": {},
   "outputs": [],
   "source": [
    "datax = pd.read_csv('feature.csv', sep='\\t')\n",
    "datay = pd.read_csv('output_y.csv', sep='\\t')\n",
    "pd_data=pd.concat([datax,datay],axis=1)\n",
    "pd_data_na = pd_data.dropna(axis=0, how='any') \n",
    "pd_data_na['discount_rate'] = pd_data_na['discount_rate'].apply(lambda x: 0 if (x == '販売価格') or (x == 'ダミー') else x)\n",
    "dataset = np.array(pd_data_na)\n",
    "non_zero_dataset = dataset[dataset[:,207]!=0,:]"
   ]
  },
  {
   "cell_type": "code",
   "execution_count": 15,
   "metadata": {},
   "outputs": [
    {
     "data": {
      "text/plain": [
       "array([[3, 13869, 1, ..., 0.10249975860978547, 0.5659216640230554, 24],\n",
       "       [8, 10029, 2, ..., -0.3546430680900812, 0.6802718348801136, 0],\n",
       "       [2, 10479, 2, ..., -0.2786267153785697, 0.008450576875891005, 0],\n",
       "       ...,\n",
       "       [8, 5510, 2, ..., -0.5915831752742329, 0.7924772637585799, 0],\n",
       "       [8, 14638, 2, ..., -0.5703743698541075, 0.6755133788101375, 0],\n",
       "       [4, 707, 2, ..., -0.8459619080217985, 0.4497797171083781, 1]],\n",
       "      dtype=object)"
      ]
     },
     "execution_count": 15,
     "metadata": {},
     "output_type": "execute_result"
    }
   ],
   "source": [
    "dataset"
   ]
  },
  {
   "cell_type": "code",
   "execution_count": null,
   "metadata": {},
   "outputs": [],
   "source": [
    "original_feature_1 = pd.read_csv('feature.csv', sep='\\t')\n",
    "original_feature_na = original_feature_1.dropna(axis=0, how='any') \n",
    "original_feature_na['discount_rate'] = pd_data_na['discount_rate'].apply(lambda x: 0 if (x == '販売価格') or (x == 'ダミー') else x)\n",
    "original_feature = np.array(original_feature_na)\n",
    "non_zero_original_feature = original_feature[original_feature[:,207]!=0,:]"
   ]
  }
 ],
 "metadata": {
  "kernelspec": {
   "display_name": "Python 3",
   "language": "python",
   "name": "python3"
  },
  "language_info": {
   "codemirror_mode": {
    "name": "ipython",
    "version": 3
   },
   "file_extension": ".py",
   "mimetype": "text/x-python",
   "name": "python",
   "nbconvert_exporter": "python",
   "pygments_lexer": "ipython3",
   "version": "3.6.5"
  }
 },
 "nbformat": 4,
 "nbformat_minor": 2
}
